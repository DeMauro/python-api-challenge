{
 "cells": [
  {
   "cell_type": "markdown",
   "metadata": {},
   "source": [
    "# WeatherPy\n",
    "----\n",
    "\n",
    "#### Note\n",
    "* Instructions have been included for each segment. You do not have to follow them exactly, but they are included to help you think through the steps."
   ]
  },
  {
   "cell_type": "markdown",
   "metadata": {},
   "source": [
    "# Observable Trends\n",
    "\n",
    "* It does in fact, get hotter as one travels from North or South towards the equator.  However, the hottest temperature cities are actually nearest The Tropic of Cancer (23.5 degrees north) and not the equator.\n",
    "<img src=\"../output_data/Fig1.png?2\">\n",
    "* There does not seem to be any relationship between coludiness and latitude.  Clouds appear to be distributed in \"bands\" from the antarctic circle (66.5 degrees south) to the artic circle (66.5 degrees north)\n",
    "<img src=\"../output_data/Fig3.png?2\">\n",
    "* It tends to get more windy as one travels away from the equator.  This is a bit of a weak trend but holds true for either North or South travel\n",
    "<img src=\"../output_data/Lat_Wind Speed_South.png?2\" align=\"left\"/><img src=\"../output_data/Lat_Wind Speed_North.png?2\" align=\"left\"/>"
   ]
  },
  {
   "cell_type": "code",
   "execution_count": 1,
   "metadata": {
    "scrolled": true
   },
   "outputs": [],
   "source": [
    "# Dependencies and Setup\n",
    "import matplotlib.pyplot as plt\n",
    "import pandas as pd\n",
    "import numpy as np\n",
    "import requests\n",
    "import time\n",
    "from scipy.stats import linregress\n",
    "from pprint import pprint\n",
    "\n",
    "# Import API key\n",
    "from api_keys import weather_api_key\n",
    "\n",
    "# Incorporated citipy to determine city based on latitude and longitude\n",
    "from citipy import citipy\n",
    "\n",
    "# Output File (CSV)\n",
    "output_data_file = \"../output_data/cities.csv\"\n",
    "\n",
    "# Range of latitudes and longitudes\n",
    "lat_range = (-90, 90)\n",
    "lng_range = (-180, 180)"
   ]
  },
  {
   "cell_type": "markdown",
   "metadata": {},
   "source": [
    "## Generate Cities List"
   ]
  },
  {
   "cell_type": "code",
   "execution_count": 2,
   "metadata": {},
   "outputs": [
    {
     "data": {
      "text/plain": [
       "622"
      ]
     },
     "execution_count": 2,
     "metadata": {},
     "output_type": "execute_result"
    }
   ],
   "source": [
    "# List for holding lat_lngs and cities\n",
    "lat_lngs = []\n",
    "cities = []\n",
    "\n",
    "# Create a set of random lat and lng combinations\n",
    "lats = np.random.uniform(lat_range[0], lat_range[1], size=1500)\n",
    "lngs = np.random.uniform(lng_range[0], lng_range[1], size=1500)\n",
    "lat_lngs = zip(lats, lngs)\n",
    "\n",
    "# Identify nearest city for each lat, lng combination\n",
    "for lat_lng in lat_lngs:\n",
    "    city = citipy.nearest_city(lat_lng[0], lat_lng[1]).city_name\n",
    "    \n",
    "    # If the city is unique, then add it to a our cities list\n",
    "    if city not in cities:\n",
    "        cities.append(city)\n",
    "\n",
    "# Print the city count to confirm sufficient count\n",
    "len(cities)"
   ]
  },
  {
   "cell_type": "markdown",
   "metadata": {},
   "source": [
    "### Perform API Calls\n",
    "* Perform a weather check on each city using a series of successive API calls.\n",
    "* Include a print log of each city as it'sbeing processed (with the city number and city name).\n"
   ]
  },
  {
   "cell_type": "code",
   "execution_count": 3,
   "metadata": {
    "scrolled": true
   },
   "outputs": [
    {
     "name": "stdout",
     "output_type": "stream",
     "text": [
      "Beginning Data Retrieval\n",
      "-------------------------\n",
      "Processing Record 1 of Set 1 | katsuura\n",
      "Processing Record 2 of Set 1 | punta arenas\n",
      "Processing Record 3 of Set 1 | saint-philippe\n",
      "Processing Record 4 of Set 1 | broken hill\n",
      "Processing Record 5 of Set 1 | gorontalo\n",
      "Processing Record 6 of Set 1 | hithadhoo\n",
      "Processing Record 7 of Set 1 | ushuaia\n",
      "Processing Record 8 of Set 1 | alugan\n",
      "City not found. Skipping...\n",
      "Processing Record 9 of Set 1 | fairbanks\n",
      "Processing Record 10 of Set 1 | sokoni\n",
      "Processing Record 11 of Set 1 | rikitea\n",
      "Processing Record 12 of Set 1 | albany\n",
      "Processing Record 13 of Set 1 | new norfolk\n",
      "Processing Record 14 of Set 1 | margate\n",
      "Processing Record 15 of Set 1 | amahai\n",
      "Processing Record 16 of Set 1 | srednekolymsk\n",
      "Processing Record 17 of Set 1 | auki\n",
      "Processing Record 18 of Set 1 | zelenoborskiy\n",
      "Processing Record 19 of Set 1 | rocha\n",
      "Processing Record 20 of Set 1 | bambous virieux\n",
      "Processing Record 21 of Set 1 | busselton\n",
      "Processing Record 22 of Set 1 | moanda\n",
      "Processing Record 23 of Set 1 | lompoc\n",
      "Processing Record 24 of Set 1 | dikson\n",
      "Processing Record 25 of Set 1 | bethel\n",
      "Processing Record 26 of Set 1 | hermanus\n",
      "Processing Record 27 of Set 1 | atuona\n",
      "Processing Record 28 of Set 1 | saint anthony\n",
      "Processing Record 29 of Set 1 | itarema\n",
      "Processing Record 30 of Set 1 | arraial do cabo\n",
      "Processing Record 31 of Set 1 | ponta do sol\n",
      "Processing Record 32 of Set 1 | henties bay\n",
      "Processing Record 33 of Set 1 | beringovskiy\n",
      "Processing Record 34 of Set 1 | bengkulu\n",
      "Processing Record 35 of Set 1 | lebu\n",
      "Processing Record 36 of Set 1 | sakakah\n",
      "Processing Record 37 of Set 1 | kodiak\n",
      "Processing Record 38 of Set 1 | los llanos de aridane\n",
      "Processing Record 39 of Set 1 | barrow\n",
      "Processing Record 40 of Set 1 | baijiantan\n",
      "Processing Record 41 of Set 1 | damaturu\n",
      "Processing Record 42 of Set 1 | saint george\n",
      "Processing Record 43 of Set 1 | ribeira grande\n",
      "Processing Record 44 of Set 1 | carnarvon\n",
      "Processing Record 45 of Set 1 | bilma\n",
      "Processing Record 46 of Set 1 | mossendjo\n",
      "City not found. Skipping...\n",
      "Processing Record 47 of Set 1 | cherskiy\n",
      "Processing Record 48 of Set 1 | grindavik\n",
      "Processing Record 49 of Set 1 | upernavik\n",
      "Processing Record 50 of Set 1 | olafsvik\n",
      "Processing Record 0 of Set 2 | naspur\n",
      "Processing Record 1 of Set 2 | cidreira\n",
      "Processing Record 2 of Set 2 | drakino\n",
      "City not found. Skipping...\n",
      "Processing Record 3 of Set 2 | oussouye\n",
      "City not found. Skipping...\n",
      "Processing Record 4 of Set 2 | mount gambier\n",
      "Processing Record 5 of Set 2 | bluff\n",
      "Processing Record 6 of Set 2 | vaini\n",
      "Processing Record 7 of Set 2 | ketchikan\n",
      "Processing Record 8 of Set 2 | khorixas\n",
      "Processing Record 9 of Set 2 | georgetown\n",
      "Processing Record 10 of Set 2 | tuktoyaktuk\n",
      "Processing Record 11 of Set 2 | iquique\n",
      "Processing Record 12 of Set 2 | northam\n",
      "Processing Record 13 of Set 2 | touros\n",
      "Processing Record 14 of Set 2 | mahebourg\n",
      "Processing Record 15 of Set 2 | coihaique\n",
      "Processing Record 16 of Set 2 | kargasok\n",
      "Processing Record 17 of Set 2 | ugoofaaru\n",
      "Processing Record 18 of Set 2 | thompson\n",
      "Processing Record 19 of Set 2 | kapiri mposhi\n",
      "Processing Record 20 of Set 2 | mataura\n",
      "Processing Record 21 of Set 2 | verdun\n",
      "Processing Record 22 of Set 2 | chokurdakh\n",
      "City not found. Skipping...\n",
      "Processing Record 23 of Set 2 | mar del plata\n",
      "Processing Record 24 of Set 2 | tura\n",
      "Processing Record 25 of Set 2 | yellowknife\n",
      "Processing Record 26 of Set 2 | jamestown\n",
      "Processing Record 27 of Set 2 | padre bernardo\n",
      "Processing Record 28 of Set 2 | westport\n",
      "Processing Record 29 of Set 2 | kapaa\n",
      "Processing Record 30 of Set 2 | san joaquin\n",
      "City not found. Skipping...\n",
      "Processing Record 31 of Set 2 | hilo\n",
      "Processing Record 32 of Set 2 | filadelfia\n",
      "Processing Record 33 of Set 2 | provideniya\n",
      "Processing Record 34 of Set 2 | dandong\n",
      "Processing Record 35 of Set 2 | codrington\n",
      "Processing Record 36 of Set 2 | saskylakh\n",
      "Processing Record 37 of Set 2 | severo-kurilsk\n",
      "City not found. Skipping...\n",
      "Processing Record 38 of Set 2 | puerto ayora\n",
      "Processing Record 39 of Set 2 | butaritari\n",
      "Processing Record 40 of Set 2 | pemangkat\n",
      "Processing Record 41 of Set 2 | gueret\n",
      "Processing Record 42 of Set 2 | huron\n",
      "City not found. Skipping...\n",
      "Processing Record 43 of Set 2 | mendoza\n",
      "Processing Record 44 of Set 2 | lusambo\n",
      "Processing Record 45 of Set 2 | nikolskoye\n",
      "Processing Record 46 of Set 2 | sitka\n",
      "Processing Record 47 of Set 2 | iqaluit\n",
      "City not found. Skipping...\n",
      "Processing Record 48 of Set 2 | atar\n",
      "Processing Record 49 of Set 2 | kutum\n",
      "Processing Record 50 of Set 2 | cayenne\n",
      "Processing Record 0 of Set 3 | nouadhibou\n",
      "Processing Record 1 of Set 3 | tiksi\n",
      "Processing Record 2 of Set 3 | bredasdorp\n",
      "Processing Record 3 of Set 3 | castro\n",
      "Processing Record 4 of Set 3 | sobradinho\n",
      "Processing Record 5 of Set 3 | praya\n",
      "Processing Record 6 of Set 3 | umm lajj\n",
      "Processing Record 7 of Set 3 | maldonado\n",
      "Processing Record 8 of Set 3 | grand gaube\n",
      "Processing Record 9 of Set 3 | samarai\n",
      "Processing Record 10 of Set 3 | cap malheureux\n",
      "City not found. Skipping...\n",
      "Processing Record 11 of Set 3 | kavaratti\n",
      "Processing Record 12 of Set 3 | zhigansk\n",
      "Processing Record 13 of Set 3 | tomatlan\n",
      "Processing Record 14 of Set 3 | portland\n",
      "Processing Record 15 of Set 3 | cabo san lucas\n",
      "Processing Record 16 of Set 3 | broome\n",
      "Processing Record 17 of Set 3 | poum\n",
      "Processing Record 18 of Set 3 | qaanaaq\n",
      "Processing Record 19 of Set 3 | waipawa\n",
      "Processing Record 20 of Set 3 | brewster\n",
      "Processing Record 21 of Set 3 | airai\n",
      "Processing Record 22 of Set 3 | komsomolskiy\n",
      "Processing Record 23 of Set 3 | fortuna\n",
      "Processing Record 24 of Set 3 | anadyr\n",
      "Processing Record 25 of Set 3 | sarangani\n",
      "Processing Record 26 of Set 3 | alto araguaia\n",
      "Processing Record 27 of Set 3 | corn island\n",
      "Processing Record 28 of Set 3 | mitsamiouli\n",
      "Processing Record 29 of Set 3 | beitbridge\n",
      "Processing Record 30 of Set 3 | rio grande\n",
      "Processing Record 31 of Set 3 | pinheiro machado\n",
      "Processing Record 32 of Set 3 | necochea\n",
      "Processing Record 33 of Set 3 | kokkola\n",
      "Processing Record 34 of Set 3 | college\n",
      "Processing Record 35 of Set 3 | port alfred\n",
      "Processing Record 36 of Set 3 | north platte\n",
      "Processing Record 37 of Set 3 | luckenwalde\n",
      "Processing Record 38 of Set 3 | bakuriani\n",
      "Processing Record 39 of Set 3 | naron\n",
      "City not found. Skipping...\n",
      "Processing Record 40 of Set 3 | cape town\n",
      "Processing Record 41 of Set 3 | trairi\n",
      "Processing Record 42 of Set 3 | ostrovnoy\n",
      "City not found. Skipping...\n",
      "Processing Record 43 of Set 3 | kavieng\n",
      "City not found. Skipping...\n",
      "Processing Record 44 of Set 3 | batticaloa\n",
      "City not found. Skipping...\n",
      "Processing Record 45 of Set 3 | imeni poliny osipenko\n",
      "Processing Record 46 of Set 3 | geraldton\n",
      "City not found. Skipping...\n",
      "Processing Record 47 of Set 3 | tateyama\n",
      "Processing Record 48 of Set 3 | karoi\n",
      "Processing Record 49 of Set 3 | souillac\n",
      "Processing Record 50 of Set 3 | victoria\n",
      "Processing Record 0 of Set 4 | santa isabel do rio negro\n",
      "Processing Record 1 of Set 4 | ambanja\n",
      "Processing Record 2 of Set 4 | moose factory\n",
      "City not found. Skipping...\n",
      "Processing Record 3 of Set 4 | cabrero\n",
      "Processing Record 4 of Set 4 | hobart\n",
      "Processing Record 5 of Set 4 | omsukchan\n",
      "Processing Record 6 of Set 4 | lewisville\n",
      "Processing Record 7 of Set 4 | harlingen\n",
      "Processing Record 8 of Set 4 | rudnaya pristan\n",
      "Processing Record 9 of Set 4 | esperance\n",
      "Processing Record 10 of Set 4 | goya\n",
      "Processing Record 11 of Set 4 | lazaro cardenas\n",
      "Processing Record 12 of Set 4 | san cristobal\n",
      "Processing Record 13 of Set 4 | east london\n",
      "Processing Record 14 of Set 4 | kwinana\n",
      "City not found. Skipping...\n",
      "Processing Record 15 of Set 4 | pachino\n",
      "Processing Record 16 of Set 4 | nova granada\n",
      "Processing Record 17 of Set 4 | penticton\n",
      "City not found. Skipping...\n",
      "Processing Record 18 of Set 4 | zhob\n",
      "Processing Record 19 of Set 4 | udachnyy\n",
      "Processing Record 20 of Set 4 | faanui\n",
      "Processing Record 21 of Set 4 | alofi\n",
      "Processing Record 22 of Set 4 | port macquarie\n",
      "Processing Record 23 of Set 4 | makakilo city\n",
      "City not found. Skipping...\n",
      "City not found. Skipping...\n",
      "Processing Record 24 of Set 4 | uyuni\n",
      "City not found. Skipping...\n",
      "Processing Record 25 of Set 4 | santa cruz de la palma\n",
      "Processing Record 26 of Set 4 | clyde river\n",
      "Processing Record 27 of Set 4 | verkhoyansk\n",
      "City not found. Skipping...\n",
      "Processing Record 28 of Set 4 | himatangi\n",
      "Processing Record 29 of Set 4 | luderitz\n"
     ]
    },
    {
     "name": "stdout",
     "output_type": "stream",
     "text": [
      "Processing Record 30 of Set 4 | chuy\n",
      "Processing Record 31 of Set 4 | pangnirtung\n",
      "City not found. Skipping...\n",
      "Processing Record 32 of Set 4 | avera\n",
      "City not found. Skipping...\n",
      "Processing Record 33 of Set 4 | bartica\n",
      "City not found. Skipping...\n",
      "Processing Record 34 of Set 4 | banda aceh\n",
      "Processing Record 35 of Set 4 | vila velha\n",
      "Processing Record 36 of Set 4 | kahului\n",
      "Processing Record 37 of Set 4 | yulara\n",
      "Processing Record 38 of Set 4 | vestmannaeyjar\n",
      "City not found. Skipping...\n",
      "Processing Record 39 of Set 4 | saint-pierre\n",
      "Processing Record 40 of Set 4 | monrovia\n",
      "Processing Record 41 of Set 4 | filingue\n",
      "Processing Record 42 of Set 4 | aklavik\n",
      "Processing Record 43 of Set 4 | chapais\n",
      "Processing Record 44 of Set 4 | alice springs\n",
      "Processing Record 45 of Set 4 | ankang\n",
      "Processing Record 46 of Set 4 | muros\n",
      "City not found. Skipping...\n",
      "Processing Record 47 of Set 4 | egvekinot\n",
      "Processing Record 48 of Set 4 | yaypan\n",
      "Processing Record 49 of Set 4 | japura\n",
      "Processing Record 50 of Set 4 | stokmarknes\n",
      "Processing Record 0 of Set 5 | gizo\n",
      "Processing Record 1 of Set 5 | tasiilaq\n",
      "Processing Record 2 of Set 5 | cache creek\n",
      "Processing Record 3 of Set 5 | usagara\n",
      "Processing Record 4 of Set 5 | taltal\n",
      "Processing Record 5 of Set 5 | adrar\n",
      "Processing Record 6 of Set 5 | san patricio\n",
      "Processing Record 7 of Set 5 | nanortalik\n",
      "Processing Record 8 of Set 5 | lagoa\n",
      "Processing Record 9 of Set 5 | jurm\n",
      "Processing Record 10 of Set 5 | okhotsk\n",
      "Processing Record 11 of Set 5 | lorengau\n",
      "Processing Record 12 of Set 5 | angoche\n",
      "Processing Record 13 of Set 5 | vardo\n",
      "Processing Record 14 of Set 5 | general roca\n",
      "Processing Record 15 of Set 5 | xiongzhou\n",
      "Processing Record 16 of Set 5 | pochutla\n",
      "Processing Record 17 of Set 5 | kananga\n",
      "Processing Record 18 of Set 5 | ostersund\n",
      "Processing Record 19 of Set 5 | saint-paul\n",
      "Processing Record 20 of Set 5 | comodoro rivadavia\n",
      "Processing Record 21 of Set 5 | bethlehem\n",
      "Processing Record 22 of Set 5 | boa vista\n",
      "Processing Record 23 of Set 5 | pailon\n",
      "Processing Record 24 of Set 5 | chopovychi\n",
      "Processing Record 25 of Set 5 | diego de almagro\n",
      "Processing Record 26 of Set 5 | norman wells\n",
      "Processing Record 27 of Set 5 | hofn\n",
      "Processing Record 28 of Set 5 | pangkalanbuun\n",
      "Processing Record 29 of Set 5 | porto nacional\n",
      "City not found. Skipping...\n",
      "Processing Record 30 of Set 5 | lazi\n",
      "Processing Record 31 of Set 5 | makat\n",
      "Processing Record 32 of Set 5 | kaitangata\n",
      "Processing Record 33 of Set 5 | korla\n",
      "Processing Record 34 of Set 5 | mulanje\n",
      "Processing Record 35 of Set 5 | hobyo\n",
      "Processing Record 36 of Set 5 | klaksvik\n",
      "City not found. Skipping...\n",
      "Processing Record 37 of Set 5 | labuhan\n",
      "Processing Record 38 of Set 5 | nimes\n",
      "Processing Record 39 of Set 5 | gusau\n",
      "City not found. Skipping...\n",
      "Processing Record 40 of Set 5 | sao lourenco da serra\n",
      "Processing Record 41 of Set 5 | surovikino\n",
      "Processing Record 42 of Set 5 | tautira\n",
      "Processing Record 43 of Set 5 | xushan\n",
      "Processing Record 44 of Set 5 | yinchuan\n",
      "Processing Record 45 of Set 5 | resistencia\n",
      "Processing Record 46 of Set 5 | gujan-mestras\n",
      "Processing Record 47 of Set 5 | svetlyy\n",
      "Processing Record 48 of Set 5 | puerto escondido\n",
      "City not found. Skipping...\n",
      "Processing Record 49 of Set 5 | lulea\n",
      "Processing Record 50 of Set 5 | kinablangan\n",
      "Processing Record 0 of Set 6 | griffith\n",
      "Processing Record 1 of Set 6 | lingao\n",
      "Processing Record 2 of Set 6 | letka\n",
      "City not found. Skipping...\n",
      "Processing Record 3 of Set 6 | avarua\n",
      "Processing Record 4 of Set 6 | acapetahua\n",
      "Processing Record 5 of Set 6 | hualmay\n",
      "Processing Record 6 of Set 6 | nyrob\n",
      "City not found. Skipping...\n",
      "Processing Record 7 of Set 6 | koutsouras\n",
      "Processing Record 8 of Set 6 | asau\n",
      "Processing Record 9 of Set 6 | stornoway\n",
      "Processing Record 10 of Set 6 | ahipara\n",
      "Processing Record 11 of Set 6 | saldanha\n",
      "Processing Record 12 of Set 6 | ilulissat\n",
      "Processing Record 13 of Set 6 | taoudenni\n",
      "City not found. Skipping...\n",
      "Processing Record 14 of Set 6 | ucluelet\n",
      "City not found. Skipping...\n",
      "Processing Record 15 of Set 6 | nome\n",
      "City not found. Skipping...\n",
      "Processing Record 16 of Set 6 | ninghai\n",
      "City not found. Skipping...\n",
      "City not found. Skipping...\n",
      "Processing Record 17 of Set 6 | calvinia\n",
      "Processing Record 18 of Set 6 | sinegorskiy\n",
      "Processing Record 19 of Set 6 | kamaishi\n",
      "Processing Record 20 of Set 6 | hamilton\n",
      "Processing Record 21 of Set 6 | ferme-neuve\n",
      "Processing Record 22 of Set 6 | zavitinsk\n",
      "Processing Record 23 of Set 6 | constitucion\n",
      "Processing Record 24 of Set 6 | naberera\n",
      "Processing Record 25 of Set 6 | russell\n",
      "Processing Record 26 of Set 6 | ponta delgada\n",
      "Processing Record 27 of Set 6 | jerantut\n",
      "Processing Record 28 of Set 6 | kizukuri\n",
      "Processing Record 29 of Set 6 | port elizabeth\n",
      "Processing Record 30 of Set 6 | isangel\n",
      "Processing Record 31 of Set 6 | santa cruz\n",
      "City not found. Skipping...\n",
      "Processing Record 32 of Set 6 | ormara\n",
      "Processing Record 33 of Set 6 | chkalovskoye\n",
      "Processing Record 34 of Set 6 | emiliano zapata\n",
      "Processing Record 35 of Set 6 | tabas\n",
      "Processing Record 36 of Set 6 | orocue\n",
      "Processing Record 37 of Set 6 | shakawe\n",
      "Processing Record 38 of Set 6 | ordynskoye\n",
      "Processing Record 39 of Set 6 | batagay-alyta\n",
      "Processing Record 40 of Set 6 | prudentopolis\n",
      "Processing Record 41 of Set 6 | bubaque\n",
      "Processing Record 42 of Set 6 | bredy\n",
      "Processing Record 43 of Set 6 | newport\n",
      "Processing Record 44 of Set 6 | pevek\n",
      "City not found. Skipping...\n",
      "Processing Record 45 of Set 6 | yemtsa\n",
      "Processing Record 46 of Set 6 | iskateley\n",
      "Processing Record 47 of Set 6 | kamakwie\n",
      "Processing Record 48 of Set 6 | kil\n",
      "Processing Record 49 of Set 6 | ginda\n",
      "Processing Record 50 of Set 6 | maria aurora\n",
      "City not found. Skipping...\n",
      "City not found. Skipping...\n",
      "Processing Record 0 of Set 7 | marsh harbour\n",
      "Processing Record 1 of Set 7 | shirak\n",
      "Processing Record 2 of Set 7 | birao\n",
      "Processing Record 3 of Set 7 | khatanga\n",
      "Processing Record 4 of Set 7 | tefe\n",
      "Processing Record 5 of Set 7 | kiama\n",
      "Processing Record 6 of Set 7 | redcar\n",
      "Processing Record 7 of Set 7 | harper\n",
      "Processing Record 8 of Set 7 | dorado\n",
      "City not found. Skipping...\n",
      "Processing Record 9 of Set 7 | south houston\n",
      "Processing Record 10 of Set 7 | kefamenanu\n",
      "Processing Record 11 of Set 7 | nha trang\n",
      "Processing Record 12 of Set 7 | teguise\n",
      "Processing Record 13 of Set 7 | isla mujeres\n",
      "Processing Record 14 of Set 7 | tutoia\n",
      "Processing Record 15 of Set 7 | todos santos\n",
      "Processing Record 16 of Set 7 | rawson\n",
      "Processing Record 17 of Set 7 | moerai\n",
      "City not found. Skipping...\n",
      "Processing Record 18 of Set 7 | mana\n",
      "Processing Record 19 of Set 7 | talnakh\n",
      "City not found. Skipping...\n",
      "Processing Record 20 of Set 7 | narsaq\n",
      "Processing Record 21 of Set 7 | otane\n",
      "Processing Record 22 of Set 7 | de-kastri\n",
      "Processing Record 23 of Set 7 | enid\n",
      "Processing Record 24 of Set 7 | qiongshan\n",
      "Processing Record 25 of Set 7 | flinders\n",
      "Processing Record 26 of Set 7 | calamar\n",
      "Processing Record 27 of Set 7 | daru\n",
      "City not found. Skipping...\n",
      "Processing Record 28 of Set 7 | andros town\n",
      "Processing Record 29 of Set 7 | yelatma\n",
      "Processing Record 30 of Set 7 | winnemucca\n",
      "Processing Record 31 of Set 7 | hasaki\n",
      "Processing Record 32 of Set 7 | erenhot\n",
      "Processing Record 33 of Set 7 | piranhas\n",
      "Processing Record 34 of Set 7 | sola\n",
      "Processing Record 35 of Set 7 | genc\n",
      "Processing Record 36 of Set 7 | pemba\n",
      "Processing Record 37 of Set 7 | salym\n",
      "Processing Record 38 of Set 7 | dingle\n",
      "Processing Record 39 of Set 7 | matata\n",
      "Processing Record 40 of Set 7 | alta floresta\n",
      "Processing Record 41 of Set 7 | minnedosa\n",
      "Processing Record 42 of Set 7 | kroya\n",
      "Processing Record 43 of Set 7 | teacapan\n",
      "Processing Record 44 of Set 7 | puerto carreno\n",
      "Processing Record 45 of Set 7 | burnie\n",
      "Processing Record 46 of Set 7 | icod de los vinos\n",
      "Processing Record 47 of Set 7 | dudinka\n",
      "City not found. Skipping...\n",
      "Processing Record 48 of Set 7 | bathsheba\n",
      "Processing Record 49 of Set 7 | tazovskiy\n",
      "Processing Record 50 of Set 7 | yar-sale\n",
      "Processing Record 0 of Set 8 | preobrazheniye\n",
      "Processing Record 1 of Set 8 | solnechnyy\n",
      "Processing Record 2 of Set 8 | cabinda\n",
      "Processing Record 3 of Set 8 | kaka\n",
      "Processing Record 4 of Set 8 | whitianga\n",
      "Processing Record 5 of Set 8 | riyadh\n",
      "Processing Record 6 of Set 8 | prince rupert\n",
      "Processing Record 7 of Set 8 | san quintin\n",
      "Processing Record 8 of Set 8 | oranjemund\n",
      "Processing Record 9 of Set 8 | madang\n"
     ]
    },
    {
     "name": "stdout",
     "output_type": "stream",
     "text": [
      "Processing Record 10 of Set 8 | pokhara\n",
      "Processing Record 11 of Set 8 | sajanan\n",
      "City not found. Skipping...\n",
      "Processing Record 12 of Set 8 | giddalur\n",
      "Processing Record 13 of Set 8 | price\n",
      "Processing Record 14 of Set 8 | tulsipur\n",
      "Processing Record 15 of Set 8 | araceli\n",
      "Processing Record 16 of Set 8 | kisangani\n",
      "Processing Record 17 of Set 8 | waingapu\n",
      "Processing Record 18 of Set 8 | muhos\n",
      "Processing Record 19 of Set 8 | barra do garcas\n",
      "City not found. Skipping...\n",
      "City not found. Skipping...\n",
      "Processing Record 20 of Set 8 | ancud\n",
      "Processing Record 21 of Set 8 | winnetka\n",
      "Processing Record 22 of Set 8 | awjilah\n",
      "Processing Record 23 of Set 8 | ushumun\n",
      "Processing Record 24 of Set 8 | ahja\n",
      "Processing Record 25 of Set 8 | padang\n",
      "Processing Record 26 of Set 8 | santa maria\n",
      "City not found. Skipping...\n",
      "Processing Record 27 of Set 8 | beloha\n",
      "City not found. Skipping...\n",
      "Processing Record 28 of Set 8 | actopan\n",
      "Processing Record 29 of Set 8 | joshimath\n",
      "Processing Record 30 of Set 8 | pajan\n",
      "Processing Record 31 of Set 8 | maryville\n",
      "Processing Record 32 of Set 8 | launceston\n",
      "Processing Record 33 of Set 8 | blagoyevo\n",
      "Processing Record 34 of Set 8 | kochevo\n",
      "City not found. Skipping...\n",
      "Processing Record 35 of Set 8 | mandalgovi\n",
      "Processing Record 36 of Set 8 | siavonga\n",
      "Processing Record 37 of Set 8 | martapura\n",
      "Processing Record 38 of Set 8 | ouadda\n",
      "Processing Record 39 of Set 8 | lalpur\n",
      "Processing Record 40 of Set 8 | denpasar\n",
      "Processing Record 41 of Set 8 | buala\n",
      "Processing Record 42 of Set 8 | kailua\n",
      "Processing Record 43 of Set 8 | wana\n",
      "Processing Record 44 of Set 8 | sale\n",
      "Processing Record 45 of Set 8 | krasnoselkup\n",
      "Processing Record 46 of Set 8 | feijo\n",
      "Processing Record 47 of Set 8 | atbasar\n",
      "Processing Record 48 of Set 8 | svetlogorsk\n",
      "Processing Record 49 of Set 8 | beaverlodge\n",
      "Processing Record 50 of Set 8 | viransehir\n",
      "Processing Record 0 of Set 9 | ponferrada\n",
      "Processing Record 1 of Set 9 | vitim\n",
      "City not found. Skipping...\n",
      "Processing Record 2 of Set 9 | seminole\n",
      "Processing Record 3 of Set 9 | volodarka\n",
      "Processing Record 4 of Set 9 | lithgow\n",
      "Processing Record 5 of Set 9 | tadine\n",
      "Processing Record 6 of Set 9 | muyezerskiy\n",
      "City not found. Skipping...\n",
      "Processing Record 7 of Set 9 | novyy urengoy\n",
      "Processing Record 8 of Set 9 | belmonte\n",
      "Processing Record 9 of Set 9 | sergeyevka\n",
      "Processing Record 10 of Set 9 | jalu\n",
      "Processing Record 11 of Set 9 | riobamba\n",
      "Processing Record 12 of Set 9 | pacific grove\n",
      "Processing Record 13 of Set 9 | metaxades\n",
      "Processing Record 14 of Set 9 | cam ranh\n",
      "Processing Record 15 of Set 9 | lasa\n",
      "Processing Record 16 of Set 9 | port blair\n",
      "Processing Record 17 of Set 9 | fenyi\n",
      "Processing Record 18 of Set 9 | vanimo\n",
      "Processing Record 19 of Set 9 | watsa\n",
      "Processing Record 20 of Set 9 | sinazongwe\n",
      "Processing Record 21 of Set 9 | minab\n",
      "Processing Record 22 of Set 9 | zhuhai\n",
      "Processing Record 23 of Set 9 | mount isa\n",
      "Processing Record 24 of Set 9 | belaya gora\n",
      "Processing Record 25 of Set 9 | longyearbyen\n",
      "Processing Record 26 of Set 9 | sao filipe\n",
      "Processing Record 27 of Set 9 | camacha\n",
      "Processing Record 28 of Set 9 | chelmno\n",
      "Processing Record 29 of Set 9 | reyes\n",
      "Processing Record 30 of Set 9 | half moon bay\n",
      "Processing Record 31 of Set 9 | ballina\n",
      "Processing Record 32 of Set 9 | yaan\n",
      "Processing Record 33 of Set 9 | afua\n",
      "Processing Record 34 of Set 9 | petropavlovka\n",
      "Processing Record 35 of Set 9 | wuwei\n",
      "Processing Record 36 of Set 9 | sandwick\n",
      "Processing Record 37 of Set 9 | kruisfontein\n",
      "Processing Record 38 of Set 9 | concepcion\n",
      "Processing Record 39 of Set 9 | porterville\n",
      "Processing Record 40 of Set 9 | taonan\n",
      "Processing Record 41 of Set 9 | gori\n",
      "Processing Record 42 of Set 9 | maningrida\n",
      "Processing Record 43 of Set 9 | bilibino\n",
      "Processing Record 44 of Set 9 | lata\n",
      "Processing Record 45 of Set 9 | nueva gerona\n",
      "Processing Record 46 of Set 9 | yasinya\n",
      "Processing Record 47 of Set 9 | sao miguel do araguaia\n",
      "Processing Record 48 of Set 9 | quelimane\n",
      "Processing Record 49 of Set 9 | chicama\n",
      "Processing Record 50 of Set 9 | punalur\n",
      "Processing Record 0 of Set 10 | vaitape\n",
      "Processing Record 1 of Set 10 | laguna\n",
      "Processing Record 2 of Set 10 | noyabrsk\n",
      "Processing Record 3 of Set 10 | bosaso\n",
      "Processing Record 4 of Set 10 | svetlaya\n",
      "Processing Record 5 of Set 10 | verkhnetulomskiy\n",
      "Processing Record 6 of Set 10 | cedar city\n",
      "Processing Record 7 of Set 10 | pitea\n",
      "Processing Record 8 of Set 10 | the pas\n",
      "Processing Record 9 of Set 10 | meulaboh\n",
      "Processing Record 10 of Set 10 | vostok\n",
      "Processing Record 11 of Set 10 | el alto\n",
      "Processing Record 12 of Set 10 | caravelas\n",
      "Processing Record 13 of Set 10 | esmeraldas\n",
      "Processing Record 14 of Set 10 | taman\n",
      "Processing Record 15 of Set 10 | jilib\n",
      "Processing Record 16 of Set 10 | bodden town\n",
      "Processing Record 17 of Set 10 | sao felix do xingu\n",
      "Processing Record 18 of Set 10 | mount pleasant\n",
      "Processing Record 19 of Set 10 | phan thiet\n",
      "Processing Record 20 of Set 10 | linares\n",
      "Processing Record 21 of Set 10 | hanzhong\n",
      "City not found. Skipping...\n",
      "Processing Record 22 of Set 10 | luganville\n",
      "Processing Record 23 of Set 10 | paramonga\n",
      "Processing Record 24 of Set 10 | santa vitoria do palmar\n",
      "City not found. Skipping...\n",
      "Processing Record 25 of Set 10 | pedernales\n",
      "Processing Record 26 of Set 10 | kendari\n",
      "Processing Record 27 of Set 10 | langsa\n",
      "Processing Record 28 of Set 10 | galesong\n",
      "Processing Record 29 of Set 10 | tessalit\n",
      "Processing Record 30 of Set 10 | tukrah\n",
      "Processing Record 31 of Set 10 | bud\n",
      "Processing Record 32 of Set 10 | karratha\n",
      "Processing Record 33 of Set 10 | zabol\n",
      "Processing Record 34 of Set 10 | tres lagoas\n",
      "Processing Record 35 of Set 10 | tuatapere\n",
      "Processing Record 36 of Set 10 | camana\n",
      "City not found. Skipping...\n",
      "Processing Record 37 of Set 10 | tarko-sale\n",
      "Processing Record 38 of Set 10 | hami\n",
      "Processing Record 39 of Set 10 | mattawa\n",
      "Processing Record 40 of Set 10 | qaqortoq\n",
      "Processing Record 41 of Set 10 | gotemba\n",
      "Processing Record 42 of Set 10 | tahoua\n",
      "Processing Record 43 of Set 10 | kumano\n",
      "Processing Record 44 of Set 10 | ruwi\n",
      "Processing Record 45 of Set 10 | sotouboua\n",
      "Processing Record 46 of Set 10 | craig\n",
      "Processing Record 47 of Set 10 | bayangol\n",
      "Processing Record 48 of Set 10 | vila do maio\n",
      "Processing Record 49 of Set 10 | port-gentil\n",
      "Processing Record 50 of Set 10 | naze\n",
      "Processing Record 0 of Set 11 | sekoma\n",
      "Processing Record 1 of Set 11 | san borja\n",
      "City not found. Skipping...\n",
      "Processing Record 2 of Set 11 | te anau\n",
      "Processing Record 3 of Set 11 | barentu\n",
      "Processing Record 4 of Set 11 | lac du bonnet\n",
      "City not found. Skipping...\n",
      "Processing Record 5 of Set 11 | epe\n",
      "City not found. Skipping...\n",
      "Processing Record 6 of Set 11 | kundiawa\n",
      "Processing Record 7 of Set 11 | sosua\n",
      "Processing Record 8 of Set 11 | pangody\n",
      "Processing Record 9 of Set 11 | syasstroy\n",
      "Processing Record 10 of Set 11 | erzincan\n",
      "City not found. Skipping...\n",
      "Processing Record 11 of Set 11 | shenjiamen\n",
      "Processing Record 12 of Set 11 | evensk\n",
      "Processing Record 13 of Set 11 | mnogovershinnyy\n",
      "Processing Record 14 of Set 11 | mayo\n",
      "Processing Record 15 of Set 11 | wharton\n",
      "Processing Record 16 of Set 11 | cockburn town\n",
      "Processing Record 17 of Set 11 | port arthur\n",
      "Processing Record 18 of Set 11 | correntina\n",
      "Processing Record 19 of Set 11 | palembang\n",
      "Processing Record 20 of Set 11 | road town\n",
      "Processing Record 21 of Set 11 | colares\n",
      "Processing Record 22 of Set 11 | gweru\n",
      "Processing Record 23 of Set 11 | pauini\n",
      "Processing Record 24 of Set 11 | san felipe\n",
      "Processing Record 25 of Set 11 | verkhnevilyuysk\n",
      "Processing Record 26 of Set 11 | bomet\n",
      "Processing Record 27 of Set 11 | zambezi\n",
      "Processing Record 28 of Set 11 | chirnside\n",
      "Processing Record 29 of Set 11 | pokosnoye\n",
      "Processing Record 30 of Set 11 | borzya\n",
      "Processing Record 31 of Set 11 | leningradskiy\n",
      "Processing Record 32 of Set 11 | bambanglipuro\n",
      "Processing Record 33 of Set 11 | olga\n",
      "Processing Record 34 of Set 11 | pisco\n",
      "Processing Record 35 of Set 11 | dumas\n",
      "Processing Record 36 of Set 11 | tevriz\n",
      "Processing Record 37 of Set 11 | shahrud\n",
      "Processing Record 38 of Set 11 | illapel\n",
      "Processing Record 39 of Set 11 | kiunga\n",
      "Processing Record 40 of Set 11 | ixtapa\n",
      "Processing Record 41 of Set 11 | bangolo\n",
      "Processing Record 42 of Set 11 | sambava\n",
      "Processing Record 43 of Set 11 | leshukonskoye\n",
      "Processing Record 44 of Set 11 | abu samrah\n"
     ]
    },
    {
     "name": "stdout",
     "output_type": "stream",
     "text": [
      "Processing Record 45 of Set 11 | pafos\n",
      "Processing Record 46 of Set 11 | nemuro\n",
      "Processing Record 47 of Set 11 | manokwari\n",
      "Processing Record 48 of Set 11 | los lunas\n",
      "Processing Record 49 of Set 11 | roros\n",
      "Processing Record 50 of Set 11 | berberati\n",
      "-------------------------\n",
      "Data Retrieval Complete\n",
      "-------------------------\n"
     ]
    }
   ],
   "source": [
    "# I've added the URL and units into the string rather than call them as URL & Units like in class\n",
    "query_url = f\"http://api.openweathermap.org/data/2.5/weather?appid={weather_api_key}&units=imperial&q=\"\n",
    "\n",
    "# lists for appending the data needed for the dataframe from each city\n",
    "Lat = []\n",
    "Lng = []\n",
    "Max_Temp = []\n",
    "Humidity = []\n",
    "Cloudiness = []\n",
    "Wind_Speed = []\n",
    "Country = []\n",
    "Date =[] \n",
    "Place_Name = []\n",
    "\n",
    "# if a city is unavailable it is listed as \" 'cod': '404' \" in the response \" 'cod': 200 \" if available\n",
    "# why are these divided into sets in the example?  What do the sets represent? It is an unnecessary complication \n",
    "# and made the code more confusing for me.\n",
    "print(\"Beginning Data Retrieval\")\n",
    "print(\"-------------------------\")\n",
    "sets = 1\n",
    "city_count = 1\n",
    "# looping through each city to check for and collect data and print and add to sets(?) \n",
    "for city in cities:\n",
    "    response = requests.get(query_url + city).json()\n",
    "    if response['cod'] == '404': # if there is no data for the city...\n",
    "        print(\"City not found. Skipping...\") # skip it\n",
    "    else:                                    # if the city has data then capture it in lists\n",
    "# \"ValueError: arrays must all be same length\" can't use the cities list from above because of 404s\n",
    "        Place_Name.append(city)\n",
    "        Lat.append(response['coord']['lat'])\n",
    "        Lng.append(response['coord']['lon'])\n",
    "        Max_Temp.append(response['main']['temp_max'])\n",
    "        Humidity.append(response['main']['humidity'])\n",
    "        Cloudiness.append(response['clouds']['all'])\n",
    "        Wind_Speed.append(response['wind']['speed'])\n",
    "        Country.append(response['sys']['country'])\n",
    "        Date.append(response['dt']) #god forbid it is called date or somthing crazy like that\n",
    "        \n",
    "        if city_count <= 50:        # okay for sets if the city_count number is less than 50....\n",
    "            print(f\"Processing Record {city_count} of Set {sets} | {city}\") #print this and add 1 to city_count...\n",
    "            city_count += 1 \n",
    "        else:                       # otherwise create a new set and print the data (makes sets of 50 (0 to 49))\n",
    "            city_count = 0          # I know python starts counting at 0 but people don't.  But the example used 0 so...\n",
    "            sets += 1\n",
    "            print(f\"Processing Record {city_count} of Set {sets} | {city}\")\n",
    "            city_count += 1            \n",
    "print(\"-------------------------\")\n",
    "print(\"Data Retrieval Complete\")\n",
    "print(\"-------------------------\")"
   ]
  },
  {
   "cell_type": "markdown",
   "metadata": {},
   "source": [
    "### Convert Raw Data to DataFrame\n",
    "* Export the city data into a .csv.\n",
    "* Display the DataFrame"
   ]
  },
  {
   "cell_type": "code",
   "execution_count": 4,
   "metadata": {},
   "outputs": [
    {
     "data": {
      "text/html": [
       "<div>\n",
       "<style scoped>\n",
       "    .dataframe tbody tr th:only-of-type {\n",
       "        vertical-align: middle;\n",
       "    }\n",
       "\n",
       "    .dataframe tbody tr th {\n",
       "        vertical-align: top;\n",
       "    }\n",
       "\n",
       "    .dataframe thead th {\n",
       "        text-align: right;\n",
       "    }\n",
       "</style>\n",
       "<table border=\"1\" class=\"dataframe\">\n",
       "  <thead>\n",
       "    <tr style=\"text-align: right;\">\n",
       "      <th></th>\n",
       "      <th>City</th>\n",
       "      <th>Lat</th>\n",
       "      <th>Lng</th>\n",
       "      <th>Max Temp</th>\n",
       "      <th>Humidity</th>\n",
       "      <th>Cloudiness</th>\n",
       "      <th>Wind Speed</th>\n",
       "      <th>Country</th>\n",
       "      <th>Date</th>\n",
       "    </tr>\n",
       "  </thead>\n",
       "  <tbody>\n",
       "    <tr>\n",
       "      <td>0</td>\n",
       "      <td>katsuura</td>\n",
       "      <td>35.13</td>\n",
       "      <td>140.30</td>\n",
       "      <td>61.00</td>\n",
       "      <td>55</td>\n",
       "      <td>20</td>\n",
       "      <td>17.22</td>\n",
       "      <td>JP</td>\n",
       "      <td>1587834222</td>\n",
       "    </tr>\n",
       "    <tr>\n",
       "      <td>1</td>\n",
       "      <td>punta arenas</td>\n",
       "      <td>-53.15</td>\n",
       "      <td>-70.92</td>\n",
       "      <td>39.00</td>\n",
       "      <td>64</td>\n",
       "      <td>51</td>\n",
       "      <td>11.99</td>\n",
       "      <td>CL</td>\n",
       "      <td>1587834211</td>\n",
       "    </tr>\n",
       "    <tr>\n",
       "      <td>2</td>\n",
       "      <td>saint-philippe</td>\n",
       "      <td>-21.36</td>\n",
       "      <td>55.77</td>\n",
       "      <td>77.00</td>\n",
       "      <td>83</td>\n",
       "      <td>20</td>\n",
       "      <td>6.17</td>\n",
       "      <td>RE</td>\n",
       "      <td>1587834222</td>\n",
       "    </tr>\n",
       "    <tr>\n",
       "      <td>3</td>\n",
       "      <td>broken hill</td>\n",
       "      <td>-31.95</td>\n",
       "      <td>141.43</td>\n",
       "      <td>73.40</td>\n",
       "      <td>28</td>\n",
       "      <td>90</td>\n",
       "      <td>12.75</td>\n",
       "      <td>AU</td>\n",
       "      <td>1587834223</td>\n",
       "    </tr>\n",
       "    <tr>\n",
       "      <td>4</td>\n",
       "      <td>gorontalo</td>\n",
       "      <td>0.54</td>\n",
       "      <td>123.06</td>\n",
       "      <td>76.53</td>\n",
       "      <td>87</td>\n",
       "      <td>97</td>\n",
       "      <td>2.59</td>\n",
       "      <td>ID</td>\n",
       "      <td>1587834223</td>\n",
       "    </tr>\n",
       "    <tr>\n",
       "      <td>...</td>\n",
       "      <td>...</td>\n",
       "      <td>...</td>\n",
       "      <td>...</td>\n",
       "      <td>...</td>\n",
       "      <td>...</td>\n",
       "      <td>...</td>\n",
       "      <td>...</td>\n",
       "      <td>...</td>\n",
       "      <td>...</td>\n",
       "    </tr>\n",
       "    <tr>\n",
       "      <td>555</td>\n",
       "      <td>nemuro</td>\n",
       "      <td>43.32</td>\n",
       "      <td>145.57</td>\n",
       "      <td>43.83</td>\n",
       "      <td>87</td>\n",
       "      <td>100</td>\n",
       "      <td>21.88</td>\n",
       "      <td>JP</td>\n",
       "      <td>1587834314</td>\n",
       "    </tr>\n",
       "    <tr>\n",
       "      <td>556</td>\n",
       "      <td>manokwari</td>\n",
       "      <td>-0.87</td>\n",
       "      <td>134.08</td>\n",
       "      <td>80.96</td>\n",
       "      <td>72</td>\n",
       "      <td>100</td>\n",
       "      <td>5.35</td>\n",
       "      <td>ID</td>\n",
       "      <td>1587834315</td>\n",
       "    </tr>\n",
       "    <tr>\n",
       "      <td>557</td>\n",
       "      <td>los lunas</td>\n",
       "      <td>34.81</td>\n",
       "      <td>-106.73</td>\n",
       "      <td>66.00</td>\n",
       "      <td>25</td>\n",
       "      <td>1</td>\n",
       "      <td>6.29</td>\n",
       "      <td>US</td>\n",
       "      <td>1587834315</td>\n",
       "    </tr>\n",
       "    <tr>\n",
       "      <td>558</td>\n",
       "      <td>roros</td>\n",
       "      <td>62.57</td>\n",
       "      <td>11.38</td>\n",
       "      <td>35.60</td>\n",
       "      <td>93</td>\n",
       "      <td>90</td>\n",
       "      <td>14.99</td>\n",
       "      <td>NO</td>\n",
       "      <td>1587834315</td>\n",
       "    </tr>\n",
       "    <tr>\n",
       "      <td>559</td>\n",
       "      <td>berberati</td>\n",
       "      <td>4.26</td>\n",
       "      <td>15.79</td>\n",
       "      <td>80.91</td>\n",
       "      <td>49</td>\n",
       "      <td>42</td>\n",
       "      <td>0.98</td>\n",
       "      <td>CF</td>\n",
       "      <td>1587834315</td>\n",
       "    </tr>\n",
       "  </tbody>\n",
       "</table>\n",
       "<p>560 rows × 9 columns</p>\n",
       "</div>"
      ],
      "text/plain": [
       "               City    Lat     Lng  Max Temp  Humidity  Cloudiness  \\\n",
       "0          katsuura  35.13  140.30     61.00        55          20   \n",
       "1      punta arenas -53.15  -70.92     39.00        64          51   \n",
       "2    saint-philippe -21.36   55.77     77.00        83          20   \n",
       "3       broken hill -31.95  141.43     73.40        28          90   \n",
       "4         gorontalo   0.54  123.06     76.53        87          97   \n",
       "..              ...    ...     ...       ...       ...         ...   \n",
       "555          nemuro  43.32  145.57     43.83        87         100   \n",
       "556       manokwari  -0.87  134.08     80.96        72         100   \n",
       "557       los lunas  34.81 -106.73     66.00        25           1   \n",
       "558           roros  62.57   11.38     35.60        93          90   \n",
       "559       berberati   4.26   15.79     80.91        49          42   \n",
       "\n",
       "     Wind Speed Country        Date  \n",
       "0         17.22      JP  1587834222  \n",
       "1         11.99      CL  1587834211  \n",
       "2          6.17      RE  1587834222  \n",
       "3         12.75      AU  1587834223  \n",
       "4          2.59      ID  1587834223  \n",
       "..          ...     ...         ...  \n",
       "555       21.88      JP  1587834314  \n",
       "556        5.35      ID  1587834315  \n",
       "557        6.29      US  1587834315  \n",
       "558       14.99      NO  1587834315  \n",
       "559        0.98      CF  1587834315  \n",
       "\n",
       "[560 rows x 9 columns]"
      ]
     },
     "execution_count": 4,
     "metadata": {},
     "output_type": "execute_result"
    }
   ],
   "source": [
    "# taken pretty much directly from the classwork file\n",
    "weather_dict = {\"City\": Place_Name,\"Lat\": Lat,\"Lng\": Lng, \"Max Temp\": Max_Temp, \"Humidity\": Humidity, \n",
    "                \"Cloudiness\": Cloudiness, \"Wind Speed\": Wind_Speed, \"Country\": Country, \"Date\": Date}\n",
    "weather_data = pd.DataFrame(weather_dict)\n",
    "# I found a few NAs going through this one time so I'll clean them here\n",
    "weather_data = weather_data.dropna()\n",
    "weather_data.to_csv(output_data_file, encoding='utf-8', index=True)\n",
    "weather_data"
   ]
  },
  {
   "cell_type": "markdown",
   "metadata": {},
   "source": [
    "## Inspect the data and remove the cities where the humidity > 100%.\n",
    "----\n",
    "Skip this step if there are no cities that have humidity > 100%. "
   ]
  },
  {
   "cell_type": "code",
   "execution_count": 6,
   "metadata": {},
   "outputs": [
    {
     "data": {
      "text/html": [
       "<div>\n",
       "<style scoped>\n",
       "    .dataframe tbody tr th:only-of-type {\n",
       "        vertical-align: middle;\n",
       "    }\n",
       "\n",
       "    .dataframe tbody tr th {\n",
       "        vertical-align: top;\n",
       "    }\n",
       "\n",
       "    .dataframe thead th {\n",
       "        text-align: right;\n",
       "    }\n",
       "</style>\n",
       "<table border=\"1\" class=\"dataframe\">\n",
       "  <thead>\n",
       "    <tr style=\"text-align: right;\">\n",
       "      <th></th>\n",
       "      <th>City</th>\n",
       "      <th>Lat</th>\n",
       "      <th>Lng</th>\n",
       "      <th>Max Temp</th>\n",
       "      <th>Humidity</th>\n",
       "      <th>Cloudiness</th>\n",
       "      <th>Wind Speed</th>\n",
       "      <th>Country</th>\n",
       "      <th>Date</th>\n",
       "    </tr>\n",
       "  </thead>\n",
       "  <tbody>\n",
       "    <tr>\n",
       "      <td>0</td>\n",
       "      <td>katsuura</td>\n",
       "      <td>35.13</td>\n",
       "      <td>140.30</td>\n",
       "      <td>61.00</td>\n",
       "      <td>55</td>\n",
       "      <td>20</td>\n",
       "      <td>17.22</td>\n",
       "      <td>JP</td>\n",
       "      <td>1587834222</td>\n",
       "    </tr>\n",
       "    <tr>\n",
       "      <td>1</td>\n",
       "      <td>punta arenas</td>\n",
       "      <td>-53.15</td>\n",
       "      <td>-70.92</td>\n",
       "      <td>39.00</td>\n",
       "      <td>64</td>\n",
       "      <td>51</td>\n",
       "      <td>11.99</td>\n",
       "      <td>CL</td>\n",
       "      <td>1587834211</td>\n",
       "    </tr>\n",
       "    <tr>\n",
       "      <td>2</td>\n",
       "      <td>saint-philippe</td>\n",
       "      <td>-21.36</td>\n",
       "      <td>55.77</td>\n",
       "      <td>77.00</td>\n",
       "      <td>83</td>\n",
       "      <td>20</td>\n",
       "      <td>6.17</td>\n",
       "      <td>RE</td>\n",
       "      <td>1587834222</td>\n",
       "    </tr>\n",
       "    <tr>\n",
       "      <td>3</td>\n",
       "      <td>broken hill</td>\n",
       "      <td>-31.95</td>\n",
       "      <td>141.43</td>\n",
       "      <td>73.40</td>\n",
       "      <td>28</td>\n",
       "      <td>90</td>\n",
       "      <td>12.75</td>\n",
       "      <td>AU</td>\n",
       "      <td>1587834223</td>\n",
       "    </tr>\n",
       "    <tr>\n",
       "      <td>4</td>\n",
       "      <td>gorontalo</td>\n",
       "      <td>0.54</td>\n",
       "      <td>123.06</td>\n",
       "      <td>76.53</td>\n",
       "      <td>87</td>\n",
       "      <td>97</td>\n",
       "      <td>2.59</td>\n",
       "      <td>ID</td>\n",
       "      <td>1587834223</td>\n",
       "    </tr>\n",
       "  </tbody>\n",
       "</table>\n",
       "</div>"
      ],
      "text/plain": [
       "             City    Lat     Lng  Max Temp  Humidity  Cloudiness  Wind Speed  \\\n",
       "0        katsuura  35.13  140.30     61.00        55          20       17.22   \n",
       "1    punta arenas -53.15  -70.92     39.00        64          51       11.99   \n",
       "2  saint-philippe -21.36   55.77     77.00        83          20        6.17   \n",
       "3     broken hill -31.95  141.43     73.40        28          90       12.75   \n",
       "4       gorontalo   0.54  123.06     76.53        87          97        2.59   \n",
       "\n",
       "  Country        Date  \n",
       "0      JP  1587834222  \n",
       "1      CL  1587834211  \n",
       "2      RE  1587834222  \n",
       "3      AU  1587834223  \n",
       "4      ID  1587834223  "
      ]
     },
     "execution_count": 6,
     "metadata": {},
     "output_type": "execute_result"
    }
   ],
   "source": [
    "# Creates a new dataframe that includes all rows where the value of a cell in Humidity column is less than or = 100\n",
    "# if there are none none the dataframes are the same.  Excludes Humidity >100 from new Dataframe\n",
    "\n",
    "weather_clean = weather_data[weather_data.Humidity <= 100]\n",
    "weather_clean.head()\n",
    "\n",
    "# this code could be used to check if there are any over 100 in Humidity column\n",
    "# from my homework last week (I know .describe below works too)\n",
    "# just100plus = weather_data.loc[weather_data['Humidity'] > 100, :]\n",
    "# just100plus"
   ]
  },
  {
   "cell_type": "code",
   "execution_count": 7,
   "metadata": {},
   "outputs": [
    {
     "data": {
      "text/html": [
       "<div>\n",
       "<style scoped>\n",
       "    .dataframe tbody tr th:only-of-type {\n",
       "        vertical-align: middle;\n",
       "    }\n",
       "\n",
       "    .dataframe tbody tr th {\n",
       "        vertical-align: top;\n",
       "    }\n",
       "\n",
       "    .dataframe thead th {\n",
       "        text-align: right;\n",
       "    }\n",
       "</style>\n",
       "<table border=\"1\" class=\"dataframe\">\n",
       "  <thead>\n",
       "    <tr style=\"text-align: right;\">\n",
       "      <th></th>\n",
       "      <th>Lat</th>\n",
       "      <th>Lng</th>\n",
       "      <th>Max Temp</th>\n",
       "      <th>Humidity</th>\n",
       "      <th>Cloudiness</th>\n",
       "      <th>Wind Speed</th>\n",
       "      <th>Date</th>\n",
       "    </tr>\n",
       "  </thead>\n",
       "  <tbody>\n",
       "    <tr>\n",
       "      <td>count</td>\n",
       "      <td>560.000000</td>\n",
       "      <td>560.000000</td>\n",
       "      <td>560.000000</td>\n",
       "      <td>560.000000</td>\n",
       "      <td>560.000000</td>\n",
       "      <td>560.000000</td>\n",
       "      <td>5.600000e+02</td>\n",
       "    </tr>\n",
       "    <tr>\n",
       "      <td>mean</td>\n",
       "      <td>18.127893</td>\n",
       "      <td>16.998857</td>\n",
       "      <td>63.460696</td>\n",
       "      <td>66.053571</td>\n",
       "      <td>52.016071</td>\n",
       "      <td>8.252571</td>\n",
       "      <td>1.587834e+09</td>\n",
       "    </tr>\n",
       "    <tr>\n",
       "      <td>std</td>\n",
       "      <td>33.666337</td>\n",
       "      <td>91.402418</td>\n",
       "      <td>20.765156</td>\n",
       "      <td>22.185202</td>\n",
       "      <td>36.890712</td>\n",
       "      <td>5.287713</td>\n",
       "      <td>7.553095e+01</td>\n",
       "    </tr>\n",
       "    <tr>\n",
       "      <td>min</td>\n",
       "      <td>-54.800000</td>\n",
       "      <td>-179.170000</td>\n",
       "      <td>-4.000000</td>\n",
       "      <td>5.000000</td>\n",
       "      <td>0.000000</td>\n",
       "      <td>0.490000</td>\n",
       "      <td>1.587834e+09</td>\n",
       "    </tr>\n",
       "    <tr>\n",
       "      <td>25%</td>\n",
       "      <td>-10.632500</td>\n",
       "      <td>-66.410000</td>\n",
       "      <td>50.000000</td>\n",
       "      <td>52.000000</td>\n",
       "      <td>19.000000</td>\n",
       "      <td>4.160000</td>\n",
       "      <td>1.587834e+09</td>\n",
       "    </tr>\n",
       "    <tr>\n",
       "      <td>50%</td>\n",
       "      <td>20.795000</td>\n",
       "      <td>22.000000</td>\n",
       "      <td>67.955000</td>\n",
       "      <td>70.000000</td>\n",
       "      <td>53.000000</td>\n",
       "      <td>7.440000</td>\n",
       "      <td>1.587834e+09</td>\n",
       "    </tr>\n",
       "    <tr>\n",
       "      <td>75%</td>\n",
       "      <td>45.862500</td>\n",
       "      <td>102.352500</td>\n",
       "      <td>79.712500</td>\n",
       "      <td>83.000000</td>\n",
       "      <td>90.000000</td>\n",
       "      <td>11.410000</td>\n",
       "      <td>1.587834e+09</td>\n",
       "    </tr>\n",
       "    <tr>\n",
       "      <td>max</td>\n",
       "      <td>78.220000</td>\n",
       "      <td>179.320000</td>\n",
       "      <td>107.600000</td>\n",
       "      <td>100.000000</td>\n",
       "      <td>100.000000</td>\n",
       "      <td>34.000000</td>\n",
       "      <td>1.587834e+09</td>\n",
       "    </tr>\n",
       "  </tbody>\n",
       "</table>\n",
       "</div>"
      ],
      "text/plain": [
       "              Lat         Lng    Max Temp    Humidity  Cloudiness  Wind Speed  \\\n",
       "count  560.000000  560.000000  560.000000  560.000000  560.000000  560.000000   \n",
       "mean    18.127893   16.998857   63.460696   66.053571   52.016071    8.252571   \n",
       "std     33.666337   91.402418   20.765156   22.185202   36.890712    5.287713   \n",
       "min    -54.800000 -179.170000   -4.000000    5.000000    0.000000    0.490000   \n",
       "25%    -10.632500  -66.410000   50.000000   52.000000   19.000000    4.160000   \n",
       "50%     20.795000   22.000000   67.955000   70.000000   53.000000    7.440000   \n",
       "75%     45.862500  102.352500   79.712500   83.000000   90.000000   11.410000   \n",
       "max     78.220000  179.320000  107.600000  100.000000  100.000000   34.000000   \n",
       "\n",
       "               Date  \n",
       "count  5.600000e+02  \n",
       "mean   1.587834e+09  \n",
       "std    7.553095e+01  \n",
       "min    1.587834e+09  \n",
       "25%    1.587834e+09  \n",
       "50%    1.587834e+09  \n",
       "75%    1.587834e+09  \n",
       "max    1.587834e+09  "
      ]
     },
     "execution_count": 7,
     "metadata": {},
     "output_type": "execute_result"
    }
   ],
   "source": [
    "# i'm not sure why all of these extra steps, my code above removes them.  Max Temp would show any over 100 in Humidity\n",
    "weather_data.describe()"
   ]
  },
  {
   "cell_type": "code",
   "execution_count": 8,
   "metadata": {},
   "outputs": [
    {
     "data": {
      "text/plain": [
       "Int64Index([], dtype='int64')"
      ]
     },
     "execution_count": 8,
     "metadata": {},
     "output_type": "execute_result"
    }
   ],
   "source": [
    "#  Get the indices of cities that have humidity over 100%.\n",
    "# okay i figured it out.  Interesting.  My first code still works without extra steps\n",
    "idx = weather_data.index[weather_data['Humidity']> 100]\n",
    "idx"
   ]
  },
  {
   "cell_type": "code",
   "execution_count": 9,
   "metadata": {},
   "outputs": [],
   "source": [
    "# Make a new DataFrame equal to the city data to drop all humidity outliers by index.\n",
    "# Passing \"inplace=False\" will make a copy of the city_data DataFrame, which we call \"clean_city_data\".\n",
    "clean_city_data = weather_data.copy()"
   ]
  },
  {
   "cell_type": "code",
   "execution_count": 12,
   "metadata": {},
   "outputs": [
    {
     "name": "stdout",
     "output_type": "stream",
     "text": [
      "Dates have already been updated to something American humans can understand. (Sorry dd-mm-yy folks).\n"
     ]
    },
    {
     "data": {
      "text/html": [
       "<div>\n",
       "<style scoped>\n",
       "    .dataframe tbody tr th:only-of-type {\n",
       "        vertical-align: middle;\n",
       "    }\n",
       "\n",
       "    .dataframe tbody tr th {\n",
       "        vertical-align: top;\n",
       "    }\n",
       "\n",
       "    .dataframe thead th {\n",
       "        text-align: right;\n",
       "    }\n",
       "</style>\n",
       "<table border=\"1\" class=\"dataframe\">\n",
       "  <thead>\n",
       "    <tr style=\"text-align: right;\">\n",
       "      <th></th>\n",
       "      <th>City</th>\n",
       "      <th>Lat</th>\n",
       "      <th>Lng</th>\n",
       "      <th>Max Temp</th>\n",
       "      <th>Humidity</th>\n",
       "      <th>Cloudiness</th>\n",
       "      <th>Wind Speed</th>\n",
       "      <th>Country</th>\n",
       "      <th>Date</th>\n",
       "    </tr>\n",
       "  </thead>\n",
       "  <tbody>\n",
       "    <tr>\n",
       "      <td>0</td>\n",
       "      <td>katsuura</td>\n",
       "      <td>35.13</td>\n",
       "      <td>140.30</td>\n",
       "      <td>61.00</td>\n",
       "      <td>55</td>\n",
       "      <td>20</td>\n",
       "      <td>17.22</td>\n",
       "      <td>JP</td>\n",
       "      <td>04-25-20</td>\n",
       "    </tr>\n",
       "    <tr>\n",
       "      <td>1</td>\n",
       "      <td>punta arenas</td>\n",
       "      <td>-53.15</td>\n",
       "      <td>-70.92</td>\n",
       "      <td>39.00</td>\n",
       "      <td>64</td>\n",
       "      <td>51</td>\n",
       "      <td>11.99</td>\n",
       "      <td>CL</td>\n",
       "      <td>04-25-20</td>\n",
       "    </tr>\n",
       "    <tr>\n",
       "      <td>2</td>\n",
       "      <td>saint-philippe</td>\n",
       "      <td>-21.36</td>\n",
       "      <td>55.77</td>\n",
       "      <td>77.00</td>\n",
       "      <td>83</td>\n",
       "      <td>20</td>\n",
       "      <td>6.17</td>\n",
       "      <td>RE</td>\n",
       "      <td>04-25-20</td>\n",
       "    </tr>\n",
       "    <tr>\n",
       "      <td>3</td>\n",
       "      <td>broken hill</td>\n",
       "      <td>-31.95</td>\n",
       "      <td>141.43</td>\n",
       "      <td>73.40</td>\n",
       "      <td>28</td>\n",
       "      <td>90</td>\n",
       "      <td>12.75</td>\n",
       "      <td>AU</td>\n",
       "      <td>04-25-20</td>\n",
       "    </tr>\n",
       "    <tr>\n",
       "      <td>4</td>\n",
       "      <td>gorontalo</td>\n",
       "      <td>0.54</td>\n",
       "      <td>123.06</td>\n",
       "      <td>76.53</td>\n",
       "      <td>87</td>\n",
       "      <td>97</td>\n",
       "      <td>2.59</td>\n",
       "      <td>ID</td>\n",
       "      <td>04-25-20</td>\n",
       "    </tr>\n",
       "  </tbody>\n",
       "</table>\n",
       "</div>"
      ],
      "text/plain": [
       "             City    Lat     Lng  Max Temp  Humidity  Cloudiness  Wind Speed  \\\n",
       "0        katsuura  35.13  140.30     61.00        55          20       17.22   \n",
       "1    punta arenas -53.15  -70.92     39.00        64          51       11.99   \n",
       "2  saint-philippe -21.36   55.77     77.00        83          20        6.17   \n",
       "3     broken hill -31.95  141.43     73.40        28          90       12.75   \n",
       "4       gorontalo   0.54  123.06     76.53        87          97        2.59   \n",
       "\n",
       "  Country      Date  \n",
       "0      JP  04-25-20  \n",
       "1      CL  04-25-20  \n",
       "2      RE  04-25-20  \n",
       "3      AU  04-25-20  \n",
       "4      ID  04-25-20  "
      ]
     },
     "execution_count": 12,
     "metadata": {},
     "output_type": "execute_result"
    }
   ],
   "source": [
    "# Extract relevant fields from the data frame\n",
    "\n",
    "# I did it but it took a few hours and I don't think it is the way you want. Especially since I had to use inplace=True\n",
    "# I checked that it worked by changing Humidity to == 100 above since I had a df with none over 100\n",
    "# so now \"clean_city_data\" and \"weather_clean\" and \"weather_data\" all have the same information\n",
    "# BTW my code at the top removes the data without all of the extra steps (if I had not mentioned that)\n",
    "\n",
    "x =0\n",
    "for indexes in idx:\n",
    "    drop = indexes - x\n",
    "    clean_city_data.drop(clean_city_data.index[drop],inplace=True)\n",
    "    x = x +1    #using x to shift the number of the index in idx as rows are deleted\n",
    "\n",
    "# I fixed the date format to use in the charts below (I like dashes in dates).  \n",
    "# I did this as try/except because if you try to run it twice you get an error (because the date is already changed)\n",
    "\n",
    "try:\n",
    "    clean_city_data['Date'] = pd.to_datetime(clean_city_data['Date'].astype(int), unit='s')\n",
    "    clean_city_data['Date'] = clean_city_data['Date'].dt.strftime('%m-%d-%y')\n",
    "except:\n",
    "    print(\"Dates have already been updated to something American humans can understand. (Sorry dd-mm-yy folks).\")\n",
    "    \n",
    "#Export the City_Data into a csv\n",
    "clean_city_data.to_csv(output_data_file, encoding='utf-8', index=False)\n",
    "clean_city_data.head()"
   ]
  },
  {
   "cell_type": "markdown",
   "metadata": {},
   "source": [
    "## Plotting the Data\n",
    "* Use proper labeling of the plots using plot titles (including date of analysis) and axes labels.\n",
    "* Save the plotted figures as .pngs."
   ]
  },
  {
   "cell_type": "markdown",
   "metadata": {},
   "source": [
    "## Latitude vs. Temperature Plot"
   ]
  },
  {
   "cell_type": "code",
   "execution_count": 13,
   "metadata": {},
   "outputs": [
    {
     "data": {
      "image/png": "[encoded data removed]",
      "text/plain": [
       "<Figure size 432x288 with 1 Axes>"
      ]
     },
     "metadata": {
      "needs_background": "light"
     },
     "output_type": "display_data"
    }
   ],
   "source": [
    "# Plotting Latitude vs. Temp, with a grid and titles like the example and saving.  Also date is dynamic in title.\n",
    "\n",
    "plt.scatter(clean_city_data[\"Lat\"],clean_city_data[\"Max Temp\"], marker=\"o\", edgecolor=\"black\")\n",
    "plt.title(f\"City Latitude vs. Max Temperature {clean_city_data.iloc[1, 8]}\")\n",
    "plt.xlabel(\"Latitude\")\n",
    "plt.ylabel(\"Max Temperature (F)\")\n",
    "plt.grid(True)\n",
    "\n",
    "plt.savefig(\"../output_data/Fig1.png\")\n",
    "plt.show()"
   ]
  },
  {
   "cell_type": "markdown",
   "metadata": {
    "scrolled": true
   },
   "source": [
    "* Looking at recient Max Temperatures, Cities nearest The Tropic of Cancer. (23.5 degrees north) have the hottest temperatures while the equatorial cities (0 degrees Latitude) are actually cooler"
   ]
  },
  {
   "cell_type": "markdown",
   "metadata": {},
   "source": [
    "## Latitude vs. Humidity Plot"
   ]
  },
  {
   "cell_type": "code",
   "execution_count": 14,
   "metadata": {},
   "outputs": [
    {
     "data": {
      "image/png": "[encoded data removed]",
      "text/plain": [
       "<Figure size 432x288 with 1 Axes>"
      ]
     },
     "metadata": {
      "needs_background": "light"
     },
     "output_type": "display_data"
    }
   ],
   "source": [
    "# Plotting Latitude vs. Humidity, with a grid and titles like the example and saving.  Also date is dynamic in title.\n",
    "\n",
    "plt.scatter(clean_city_data[\"Lat\"],clean_city_data[\"Humidity\"], marker=\"o\", edgecolor=\"black\")\n",
    "plt.title(f\"City Latitude vs. Humidity {clean_city_data.iloc[1, 8]}\")\n",
    "plt.xlabel(\"Latitude\")\n",
    "plt.ylabel(\"Humidity (%)\")\n",
    "plt.grid(True)\n",
    "\n",
    "plt.savefig(\"../output_data/Fig2.png\")\n",
    "plt.show()"
   ]
  },
  {
   "cell_type": "markdown",
   "metadata": {},
   "source": [
    "* Humidity does not appear to be dependent on Latitude.  Cities from the antarctic circle. (66.5 degrees south) to those above the arctic circle (66.5 degrees north) have high Humidity.  Lower humidity does seem to currently be a northern hemisphere phenomenon  "
   ]
  },
  {
   "cell_type": "markdown",
   "metadata": {},
   "source": [
    "## Latitude vs. Cloudiness Plot"
   ]
  },
  {
   "cell_type": "code",
   "execution_count": 15,
   "metadata": {},
   "outputs": [
    {
     "data": {
      "image/png": "[encoded data removed]",
      "text/plain": [
       "<Figure size 432x288 with 1 Axes>"
      ]
     },
     "metadata": {
      "needs_background": "light"
     },
     "output_type": "display_data"
    }
   ],
   "source": [
    "# Plotting Latitude vs. Cloudiness, with a grid and titles like the example and saving.  Also date is dynamic in title.\n",
    "\n",
    "plt.scatter(clean_city_data[\"Lat\"],clean_city_data[\"Cloudiness\"], marker=\"o\", edgecolor=\"black\")\n",
    "plt.title(f\"City Latitude vs. Cloudiness {clean_city_data.iloc[1, 8]}\")\n",
    "plt.xlabel(\"Latitude\")\n",
    "plt.ylabel(\"Cloudiness (%)\")\n",
    "plt.grid(True)\n",
    "\n",
    "plt.savefig(\"../output_data/Fig3.png\")\n",
    "plt.show()"
   ]
  },
  {
   "cell_type": "markdown",
   "metadata": {},
   "source": [
    "* Frankly I wonder if Cloudiness vs. Humidity would be better here.  High and low cloudiness bands seem to be spread accross all Latitudes with plenty in between "
   ]
  },
  {
   "cell_type": "markdown",
   "metadata": {},
   "source": [
    "## Latitude vs. Wind Speed Plot"
   ]
  },
  {
   "cell_type": "code",
   "execution_count": 16,
   "metadata": {},
   "outputs": [
    {
     "data": {
      "image/png": "[encoded data removed]",
      "text/plain": [
       "<Figure size 432x288 with 1 Axes>"
      ]
     },
     "metadata": {
      "needs_background": "light"
     },
     "output_type": "display_data"
    }
   ],
   "source": [
    "# Plotting Latitude vs. Wind Speed, with a grid and titles like the example and saving.  Also date is dynamic in title.\n",
    "\n",
    "plt.scatter(clean_city_data[\"Lat\"],clean_city_data[\"Wind Speed\"], marker=\"o\", edgecolor=\"black\")\n",
    "plt.title(f\"City Latitude vs. Wind Speed {clean_city_data.iloc[1, 8]}\")\n",
    "plt.xlabel(\"Latitude\")\n",
    "plt.ylabel(\"Wind Speed (mph)\")\n",
    "plt.grid(True)\n",
    "\n",
    "plt.savefig(\"../output_data/Fig4.png\")\n",
    "plt.show()"
   ]
  },
  {
   "cell_type": "markdown",
   "metadata": {},
   "source": [
    "* The breeze seems consitant accross the globe.  Higher outliers may be due to storms"
   ]
  },
  {
   "cell_type": "markdown",
   "metadata": {},
   "source": [
    "## Linear Regression"
   ]
  },
  {
   "cell_type": "code",
   "execution_count": 17,
   "metadata": {},
   "outputs": [
    {
     "name": "stdout",
     "output_type": "stream",
     "text": [
      "The r-squared is: -0.617517052068675\n"
     ]
    },
    {
     "data": {
      "image/png": "[encoded data removed]",
      "text/plain": [
       "<Figure size 432x288 with 1 Axes>"
      ]
     },
     "metadata": {
      "needs_background": "light"
     },
     "output_type": "display_data"
    },
    {
     "data": {
      "text/plain": [
       "<Figure size 432x288 with 0 Axes>"
      ]
     },
     "metadata": {},
     "output_type": "display_data"
    }
   ],
   "source": [
    "# OPTIONAL: Create a function to create Linear Regression plots\n",
    "# I don't beleive I got this to work!  code in the funciton is snagged from class file  with some adjustments\n",
    "# getting the xy values to work with Northern and Southern data was a pain.  I will pat myself on the back for this one.\n",
    "\n",
    "def linear_regres(x_values, y_values, direction):\n",
    "    (slope, intercept, rvalue, pvalue, stderr) = linregress(x_values, y_values)\n",
    "    regress_values = x_values * slope + intercept\n",
    "    line_eq = \"y = \" + str(round(slope,2)) + \"x + \" + str(round(intercept,2))    \n",
    "    plt.scatter(x_values,y_values)\n",
    "    plt.plot(x_values,regress_values,\"r-\")\n",
    "    plt.annotate(line_eq,xy=(x_values.min(),y_values.min()),fontsize=15,color=\"red\") \n",
    "    if x_values.name == 'Lat':\n",
    "        plt.xlabel('Latitude')\n",
    "    else:\n",
    "        plt.xlabel(x_values.name)#I just wanted to see if I could do this. I realise it should be for yvalues and Lng too   \n",
    "    plt.ylabel(y_values.name)\n",
    "    print(f\"The r-squared is: {rvalue}\")\n",
    "    save_name = f\"../output_data/{x_values.name}_{y_values.name}_{direction}.png\"\n",
    "    fig1 = plt.gcf() # thanks internet for showing me this part.  I figured out save_name on my own\n",
    "    plt.show()\n",
    "    plt.draw()\n",
    "    fig1.savefig(save_name)\n",
    "    \n",
    "# Sample   \n",
    "x_values = clean_city_data[\"Lat\"]\n",
    "y_values = clean_city_data[\"Max Temp\"]\n",
    "direction = 'North' #I need direction to save the files under different names.  I can't figure out how to do this dynamic\n",
    "linear_regres(x_values, y_values, direction)"
   ]
  },
  {
   "cell_type": "code",
   "execution_count": 18,
   "metadata": {},
   "outputs": [
    {
     "name": "stdout",
     "output_type": "stream",
     "text": [
      "These are Southern Hemisphere cities\n"
     ]
    },
    {
     "data": {
      "text/html": [
       "<div>\n",
       "<style scoped>\n",
       "    .dataframe tbody tr th:only-of-type {\n",
       "        vertical-align: middle;\n",
       "    }\n",
       "\n",
       "    .dataframe tbody tr th {\n",
       "        vertical-align: top;\n",
       "    }\n",
       "\n",
       "    .dataframe thead th {\n",
       "        text-align: right;\n",
       "    }\n",
       "</style>\n",
       "<table border=\"1\" class=\"dataframe\">\n",
       "  <thead>\n",
       "    <tr style=\"text-align: right;\">\n",
       "      <th></th>\n",
       "      <th>City</th>\n",
       "      <th>Lat</th>\n",
       "      <th>Lng</th>\n",
       "      <th>Max Temp</th>\n",
       "      <th>Humidity</th>\n",
       "      <th>Cloudiness</th>\n",
       "      <th>Wind Speed</th>\n",
       "      <th>Country</th>\n",
       "      <th>Date</th>\n",
       "    </tr>\n",
       "  </thead>\n",
       "  <tbody>\n",
       "    <tr>\n",
       "      <td>1</td>\n",
       "      <td>punta arenas</td>\n",
       "      <td>-53.15</td>\n",
       "      <td>-70.92</td>\n",
       "      <td>39.0</td>\n",
       "      <td>64</td>\n",
       "      <td>51</td>\n",
       "      <td>11.99</td>\n",
       "      <td>CL</td>\n",
       "      <td>04-25-20</td>\n",
       "    </tr>\n",
       "    <tr>\n",
       "      <td>2</td>\n",
       "      <td>saint-philippe</td>\n",
       "      <td>-21.36</td>\n",
       "      <td>55.77</td>\n",
       "      <td>77.0</td>\n",
       "      <td>83</td>\n",
       "      <td>20</td>\n",
       "      <td>6.17</td>\n",
       "      <td>RE</td>\n",
       "      <td>04-25-20</td>\n",
       "    </tr>\n",
       "    <tr>\n",
       "      <td>3</td>\n",
       "      <td>broken hill</td>\n",
       "      <td>-31.95</td>\n",
       "      <td>141.43</td>\n",
       "      <td>73.4</td>\n",
       "      <td>28</td>\n",
       "      <td>90</td>\n",
       "      <td>12.75</td>\n",
       "      <td>AU</td>\n",
       "      <td>04-25-20</td>\n",
       "    </tr>\n",
       "    <tr>\n",
       "      <td>5</td>\n",
       "      <td>hithadhoo</td>\n",
       "      <td>-0.60</td>\n",
       "      <td>73.08</td>\n",
       "      <td>84.7</td>\n",
       "      <td>72</td>\n",
       "      <td>88</td>\n",
       "      <td>8.66</td>\n",
       "      <td>MV</td>\n",
       "      <td>04-25-20</td>\n",
       "    </tr>\n",
       "    <tr>\n",
       "      <td>6</td>\n",
       "      <td>ushuaia</td>\n",
       "      <td>-54.80</td>\n",
       "      <td>-68.30</td>\n",
       "      <td>39.2</td>\n",
       "      <td>64</td>\n",
       "      <td>40</td>\n",
       "      <td>4.38</td>\n",
       "      <td>AR</td>\n",
       "      <td>04-25-20</td>\n",
       "    </tr>\n",
       "  </tbody>\n",
       "</table>\n",
       "</div>"
      ],
      "text/plain": [
       "             City    Lat     Lng  Max Temp  Humidity  Cloudiness  Wind Speed  \\\n",
       "1    punta arenas -53.15  -70.92      39.0        64          51       11.99   \n",
       "2  saint-philippe -21.36   55.77      77.0        83          20        6.17   \n",
       "3     broken hill -31.95  141.43      73.4        28          90       12.75   \n",
       "5       hithadhoo  -0.60   73.08      84.7        72          88        8.66   \n",
       "6         ushuaia -54.80  -68.30      39.2        64          40        4.38   \n",
       "\n",
       "  Country      Date  \n",
       "1      CL  04-25-20  \n",
       "2      RE  04-25-20  \n",
       "3      AU  04-25-20  \n",
       "5      MV  04-25-20  \n",
       "6      AR  04-25-20  "
      ]
     },
     "execution_count": 18,
     "metadata": {},
     "output_type": "execute_result"
    }
   ],
   "source": [
    "# Create Northern and Southern Hemisphere DataFrames\n",
    "# I used this same code above to remove over 100% Humidity\n",
    "\n",
    "Northern_Hemisphere = clean_city_data[clean_city_data.Lat >=0]\n",
    "Southern_Hemisphere = clean_city_data[clean_city_data.Lat <0]\n",
    "print(\"These are Southern Hemisphere cities\")\n",
    "Southern_Hemisphere.head()"
   ]
  },
  {
   "cell_type": "markdown",
   "metadata": {},
   "source": [
    "####  Northern Hemisphere - Max Temp vs. Latitude Linear Regression"
   ]
  },
  {
   "cell_type": "code",
   "execution_count": 19,
   "metadata": {},
   "outputs": [
    {
     "name": "stdout",
     "output_type": "stream",
     "text": [
      "The r-squared is: -0.8898057803553893\n"
     ]
    },
    {
     "data": {
      "image/png": "[encoded data removed]",
      "text/plain": [
       "<Figure size 432x288 with 1 Axes>"
      ]
     },
     "metadata": {
      "needs_background": "light"
     },
     "output_type": "display_data"
    },
    {
     "data": {
      "text/plain": [
       "<Figure size 432x288 with 0 Axes>"
      ]
     },
     "metadata": {},
     "output_type": "display_data"
    }
   ],
   "source": [
    "# Cool, I just created this with the function that I made\n",
    "x_values = Northern_Hemisphere[\"Lat\"]\n",
    "y_values = Northern_Hemisphere[\"Max Temp\"]\n",
    "direction = 'North'\n",
    "linear_regres(x_values, y_values, direction)"
   ]
  },
  {
   "cell_type": "markdown",
   "metadata": {},
   "source": [
    "####  Southern Hemisphere - Max Temp vs. Latitude Linear Regression"
   ]
  },
  {
   "cell_type": "code",
   "execution_count": 20,
   "metadata": {},
   "outputs": [
    {
     "name": "stdout",
     "output_type": "stream",
     "text": [
      "The r-squared is: 0.6881691127363619\n"
     ]
    },
    {
     "data": {
      "image/png": "[encoded data removed]",
      "text/plain": [
       "<Figure size 432x288 with 1 Axes>"
      ]
     },
     "metadata": {
      "needs_background": "light"
     },
     "output_type": "display_data"
    },
    {
     "data": {
      "text/plain": [
       "<Figure size 432x288 with 0 Axes>"
      ]
     },
     "metadata": {},
     "output_type": "display_data"
    }
   ],
   "source": [
    "# Printng \"y=\" was a challange here\n",
    "x_values = Southern_Hemisphere[\"Lat\"]\n",
    "y_values = Southern_Hemisphere[\"Max Temp\"]\n",
    "direction = 'South'\n",
    "linear_regres(x_values, y_values, direction)"
   ]
  },
  {
   "cell_type": "markdown",
   "metadata": {},
   "source": [
    "Negative regresion on the Northern cities while the Southern cities are positive. Closest to equator (0 in both) is hottest"
   ]
  },
  {
   "cell_type": "markdown",
   "metadata": {},
   "source": [
    "####  Northern Hemisphere - Humidity (%) vs. Latitude Linear Regression"
   ]
  },
  {
   "cell_type": "code",
   "execution_count": 21,
   "metadata": {},
   "outputs": [
    {
     "name": "stdout",
     "output_type": "stream",
     "text": [
      "The r-squared is: 0.3000215777969265\n"
     ]
    },
    {
     "data": {
      "image/png": "[encoded data removed]",
      "text/plain": [
       "<Figure size 432x288 with 1 Axes>"
      ]
     },
     "metadata": {
      "needs_background": "light"
     },
     "output_type": "display_data"
    },
    {
     "data": {
      "text/plain": [
       "<Figure size 432x288 with 0 Axes>"
      ]
     },
     "metadata": {},
     "output_type": "display_data"
    }
   ],
   "source": [
    "x_values = Northern_Hemisphere[\"Lat\"]\n",
    "y_values = Northern_Hemisphere[\"Humidity\"]\n",
    "direction = 'North'\n",
    "linear_regres(x_values, y_values, direction)"
   ]
  },
  {
   "cell_type": "markdown",
   "metadata": {},
   "source": [
    "####  Southern Hemisphere - Humidity (%) vs. Latitude Linear Regression"
   ]
  },
  {
   "cell_type": "code",
   "execution_count": 22,
   "metadata": {},
   "outputs": [
    {
     "name": "stdout",
     "output_type": "stream",
     "text": [
      "The r-squared is: 0.11090724570396424\n"
     ]
    },
    {
     "data": {
      "image/png": "[encoded data removed]",
      "text/plain": [
       "<Figure size 432x288 with 1 Axes>"
      ]
     },
     "metadata": {
      "needs_background": "light"
     },
     "output_type": "display_data"
    },
    {
     "data": {
      "text/plain": [
       "<Figure size 432x288 with 0 Axes>"
      ]
     },
     "metadata": {},
     "output_type": "display_data"
    }
   ],
   "source": [
    "x_values = Southern_Hemisphere[\"Lat\"]\n",
    "y_values = Southern_Hemisphere[\"Humidity\"]\n",
    "direction = 'South'\n",
    "linear_regres(x_values, y_values, direction)"
   ]
  },
  {
   "cell_type": "markdown",
   "metadata": {},
   "source": [
    "There is a weak uphill linear relationship between Humidity and Latitude in both hemispheres.  However, it does seem that humidity increases as you travel North."
   ]
  },
  {
   "cell_type": "markdown",
   "metadata": {},
   "source": [
    "####  Northern Hemisphere - Cloudiness (%) vs. Latitude Linear Regression"
   ]
  },
  {
   "cell_type": "code",
   "execution_count": 23,
   "metadata": {},
   "outputs": [
    {
     "name": "stdout",
     "output_type": "stream",
     "text": [
      "The r-squared is: 0.17799543628138687\n"
     ]
    },
    {
     "data": {
      "image/png": "[encoded data removed]",
      "text/plain": [
       "<Figure size 432x288 with 1 Axes>"
      ]
     },
     "metadata": {
      "needs_background": "light"
     },
     "output_type": "display_data"
    },
    {
     "data": {
      "text/plain": [
       "<Figure size 432x288 with 0 Axes>"
      ]
     },
     "metadata": {},
     "output_type": "display_data"
    }
   ],
   "source": [
    "x_values = Northern_Hemisphere[\"Lat\"]\n",
    "y_values = Northern_Hemisphere[\"Cloudiness\"]\n",
    "direction = 'North'\n",
    "linear_regres(x_values, y_values, direction)"
   ]
  },
  {
   "cell_type": "markdown",
   "metadata": {},
   "source": [
    "####  Southern Hemisphere - Cloudiness (%) vs. Latitude Linear Regression"
   ]
  },
  {
   "cell_type": "code",
   "execution_count": 24,
   "metadata": {},
   "outputs": [
    {
     "name": "stdout",
     "output_type": "stream",
     "text": [
      "The r-squared is: 0.09049560354682966\n"
     ]
    },
    {
     "data": {
      "image/png": "[encoded data removed]",
      "text/plain": [
       "<Figure size 432x288 with 1 Axes>"
      ]
     },
     "metadata": {
      "needs_background": "light"
     },
     "output_type": "display_data"
    },
    {
     "data": {
      "text/plain": [
       "<Figure size 432x288 with 0 Axes>"
      ]
     },
     "metadata": {},
     "output_type": "display_data"
    }
   ],
   "source": [
    "x_values = Southern_Hemisphere[\"Lat\"]\n",
    "y_values = Southern_Hemisphere[\"Cloudiness\"]\n",
    "direction = 'South'\n",
    "linear_regres(x_values, y_values, direction)"
   ]
  },
  {
   "cell_type": "markdown",
   "metadata": {},
   "source": [
    "Again, week regression in both hemisphers, with cloudiness incressing as one goes North. Perhaps this would be different (or reversed) in differnt seasons"
   ]
  },
  {
   "cell_type": "markdown",
   "metadata": {},
   "source": [
    "####  Northern Hemisphere - Wind Speed (mph) vs. Latitude Linear Regression"
   ]
  },
  {
   "cell_type": "code",
   "execution_count": 25,
   "metadata": {},
   "outputs": [
    {
     "name": "stdout",
     "output_type": "stream",
     "text": [
      "The r-squared is: 0.07292034807307236\n"
     ]
    },
    {
     "data": {
      "image/png": "[encoded data removed]",
      "text/plain": [
       "<Figure size 432x288 with 1 Axes>"
      ]
     },
     "metadata": {
      "needs_background": "light"
     },
     "output_type": "display_data"
    },
    {
     "data": {
      "text/plain": [
       "<Figure size 432x288 with 0 Axes>"
      ]
     },
     "metadata": {},
     "output_type": "display_data"
    }
   ],
   "source": [
    "x_values = Northern_Hemisphere[\"Lat\"]\n",
    "y_values = Northern_Hemisphere[\"Wind Speed\"]\n",
    "direction = 'North'\n",
    "linear_regres(x_values, y_values, direction)"
   ]
  },
  {
   "cell_type": "markdown",
   "metadata": {},
   "source": [
    "####  Southern Hemisphere - Wind Speed (mph) vs. Latitude Linear Regression"
   ]
  },
  {
   "cell_type": "code",
   "execution_count": 26,
   "metadata": {
    "scrolled": true
   },
   "outputs": [
    {
     "name": "stdout",
     "output_type": "stream",
     "text": [
      "The r-squared is: -0.24339706090900565\n"
     ]
    },
    {
     "data": {
      "image/png": "[encoded data removed]",
      "text/plain": [
       "<Figure size 432x288 with 1 Axes>"
      ]
     },
     "metadata": {
      "needs_background": "light"
     },
     "output_type": "display_data"
    },
    {
     "data": {
      "text/plain": [
       "<Figure size 432x288 with 0 Axes>"
      ]
     },
     "metadata": {},
     "output_type": "display_data"
    }
   ],
   "source": [
    "x_values = Southern_Hemisphere[\"Lat\"]\n",
    "y_values = Southern_Hemisphere[\"Wind Speed\"]\n",
    "direction = 'South'\n",
    "linear_regres(x_values, y_values, direction)"
   ]
  },
  {
   "cell_type": "markdown",
   "metadata": {},
   "source": [
    "Interestingly, wind speed decreases as one travels from the antarctic circle to the equator (weak downhill regression in Southern hemisphere) and increases again as one travels North to the arctic circle (weak uphill regression in Northern hemisphere)."
   ]
  }
 ],
 "metadata": {
  "anaconda-cloud": {},
  "kernel_info": {
   "name": "python3"
  },
  "kernelspec": {
   "display_name": "Python 3",
   "language": "python",
   "name": "python3"
  },
  "language_info": {
   "codemirror_mode": {
    "name": "ipython",
    "version": 3
   },
   "file_extension": ".py",
   "mimetype": "text/x-python",
   "name": "python",
   "nbconvert_exporter": "python",
   "pygments_lexer": "ipython3",
   "version": "3.7.4"
  },
  "latex_envs": {
   "LaTeX_envs_menu_present": true,
   "autoclose": false,
   "autocomplete": true,
   "bibliofile": "biblio.bib",
   "cite_by": "apalike",
   "current_citInitial": 1,
   "eqLabelWithNumbers": true,
   "eqNumInitial": 1,
   "hotkeys": {
    "equation": "Ctrl-E",
    "itemize": "Ctrl-I"
   },
   "labels_anchors": false,
   "latex_user_defs": false,
   "report_style_numbering": false,
   "user_envs_cfg": false
  },
  "nteract": {
   "version": "0.12.3"
  }
 },
 "nbformat": 4,
 "nbformat_minor": 2
}
